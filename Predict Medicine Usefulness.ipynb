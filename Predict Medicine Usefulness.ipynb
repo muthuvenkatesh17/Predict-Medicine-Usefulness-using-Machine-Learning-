{
 "cells": [
  {
   "cell_type": "code",
   "execution_count": 10,
   "id": "34de0509-c948-444c-be5b-bcc012ba49b4",
   "metadata": {},
   "outputs": [],
   "source": [
    "#import necessary librarires \n",
    "import pandas as pd\n",
    "from sklearn.feature_extraction.text import TfidfVectorizer\n",
    "from sklearn.model_selection import train_test_split\n",
    "from sklearn.linear_model import LinearRegression\n",
    "from sklearn.metrics import mean_squared_error\n",
    "import nltk\n",
    "from nltk.corpus import stopwords \n",
    "from nltk.stem import WordNetLemmatizer\n",
    "import re "
   ]
  },
  {
   "cell_type": "code",
   "execution_count": 20,
   "id": "a073fbc0-07da-4378-b96b-37b6d861de9e",
   "metadata": {},
   "outputs": [
    {
     "name": "stderr",
     "output_type": "stream",
     "text": [
      "[nltk_data] Downloading package stopwords to\n",
      "[nltk_data]     C:\\Users\\muthu\\AppData\\Roaming\\nltk_data...\n",
      "[nltk_data]   Package stopwords is already up-to-date!\n",
      "[nltk_data] Downloading package wordnet to\n",
      "[nltk_data]     C:\\Users\\muthu\\AppData\\Roaming\\nltk_data...\n",
      "[nltk_data]   Package wordnet is already up-to-date!\n",
      "[nltk_data] Downloading package omw-1.4 to\n",
      "[nltk_data]     C:\\Users\\muthu\\AppData\\Roaming\\nltk_data...\n",
      "[nltk_data]   Package omw-1.4 is already up-to-date!\n"
     ]
    },
    {
     "data": {
      "text/plain": [
       "True"
      ]
     },
     "execution_count": 20,
     "metadata": {},
     "output_type": "execute_result"
    }
   ],
   "source": [
    "#Download necessary NLTK data \n",
    "nltk.download('stopwords')\n",
    "nltk.download('wordnet')\n",
    "nltk.download('omw-1.4')\n"
   ]
  },
  {
   "cell_type": "code",
   "execution_count": 21,
   "id": "ad5b571d-839f-49d8-8402-3fa9917b4954",
   "metadata": {},
   "outputs": [],
   "source": [
    "# Load the train and test datasets \n",
    "train = pd.read_csv('train.csv')\n",
    "test = pd.read_csv('test.csv')"
   ]
  },
  {
   "cell_type": "code",
   "execution_count": 22,
   "id": "11b88670-8b3d-4332-b431-8033424260a8",
   "metadata": {},
   "outputs": [
    {
     "data": {
      "text/html": [
       "<div>\n",
       "<style scoped>\n",
       "    .dataframe tbody tr th:only-of-type {\n",
       "        vertical-align: middle;\n",
       "    }\n",
       "\n",
       "    .dataframe tbody tr th {\n",
       "        vertical-align: top;\n",
       "    }\n",
       "\n",
       "    .dataframe thead th {\n",
       "        text-align: right;\n",
       "    }\n",
       "</style>\n",
       "<table border=\"1\" class=\"dataframe\">\n",
       "  <thead>\n",
       "    <tr style=\"text-align: right;\">\n",
       "      <th></th>\n",
       "      <th>medicine_no</th>\n",
       "      <th>disease_type</th>\n",
       "      <th>medicine_review</th>\n",
       "      <th>market_value</th>\n",
       "      <th>launch_date</th>\n",
       "      <th>score</th>\n",
       "    </tr>\n",
       "  </thead>\n",
       "  <tbody>\n",
       "    <tr>\n",
       "      <th>0</th>\n",
       "      <td>MD-22117</td>\n",
       "      <td>677</td>\n",
       "      <td>I read so many horrible reviews of this that I...</td>\n",
       "      <td>10</td>\n",
       "      <td>19-Mar-16</td>\n",
       "      <td>19</td>\n",
       "    </tr>\n",
       "    <tr>\n",
       "      <th>1</th>\n",
       "      <td>MD-22118</td>\n",
       "      <td>121</td>\n",
       "      <td>When I took the pill, I had a hard time rememb...</td>\n",
       "      <td>8</td>\n",
       "      <td>28-Oct-13</td>\n",
       "      <td>21</td>\n",
       "    </tr>\n",
       "    <tr>\n",
       "      <th>2</th>\n",
       "      <td>MD-22119</td>\n",
       "      <td>200</td>\n",
       "      <td>This is the only antidepressant that was  bene...</td>\n",
       "      <td>9</td>\n",
       "      <td>01-Jun-17</td>\n",
       "      <td>34</td>\n",
       "    </tr>\n",
       "    <tr>\n",
       "      <th>3</th>\n",
       "      <td>MD-22120</td>\n",
       "      <td>455</td>\n",
       "      <td>I took Alli for 2 months when it first came ou...</td>\n",
       "      <td>7</td>\n",
       "      <td>13-May-08</td>\n",
       "      <td>98</td>\n",
       "    </tr>\n",
       "    <tr>\n",
       "      <th>4</th>\n",
       "      <td>MD-22121</td>\n",
       "      <td>404</td>\n",
       "      <td>About ten days or two weeks after starting Est...</td>\n",
       "      <td>10</td>\n",
       "      <td>13-Dec-09</td>\n",
       "      <td>43</td>\n",
       "    </tr>\n",
       "  </tbody>\n",
       "</table>\n",
       "</div>"
      ],
      "text/plain": [
       "  medicine_no  disease_type  \\\n",
       "0    MD-22117           677   \n",
       "1    MD-22118           121   \n",
       "2    MD-22119           200   \n",
       "3    MD-22120           455   \n",
       "4    MD-22121           404   \n",
       "\n",
       "                                     medicine_review  market_value  \\\n",
       "0  I read so many horrible reviews of this that I...            10   \n",
       "1  When I took the pill, I had a hard time rememb...             8   \n",
       "2  This is the only antidepressant that was  bene...             9   \n",
       "3  I took Alli for 2 months when it first came ou...             7   \n",
       "4  About ten days or two weeks after starting Est...            10   \n",
       "\n",
       "  launch_date  score  \n",
       "0   19-Mar-16     19  \n",
       "1   28-Oct-13     21  \n",
       "2   01-Jun-17     34  \n",
       "3   13-May-08     98  \n",
       "4   13-Dec-09     43  "
      ]
     },
     "execution_count": 22,
     "metadata": {},
     "output_type": "execute_result"
    }
   ],
   "source": [
    "train.head()"
   ]
  },
  {
   "cell_type": "code",
   "execution_count": 23,
   "id": "4e78a4c6-9156-4af3-8a29-72d8e7fc519e",
   "metadata": {},
   "outputs": [
    {
     "data": {
      "text/html": [
       "<div>\n",
       "<style scoped>\n",
       "    .dataframe tbody tr th:only-of-type {\n",
       "        vertical-align: middle;\n",
       "    }\n",
       "\n",
       "    .dataframe tbody tr th {\n",
       "        vertical-align: top;\n",
       "    }\n",
       "\n",
       "    .dataframe thead th {\n",
       "        text-align: right;\n",
       "    }\n",
       "</style>\n",
       "<table border=\"1\" class=\"dataframe\">\n",
       "  <thead>\n",
       "    <tr style=\"text-align: right;\">\n",
       "      <th></th>\n",
       "      <th>medicine_no</th>\n",
       "      <th>disease_type</th>\n",
       "      <th>medicine_review</th>\n",
       "      <th>market_value</th>\n",
       "      <th>launch_date</th>\n",
       "    </tr>\n",
       "  </thead>\n",
       "  <tbody>\n",
       "    <tr>\n",
       "      <th>0</th>\n",
       "      <td>MD-49997</td>\n",
       "      <td>555</td>\n",
       "      <td>I came back from Cuba with a sinus infection a...</td>\n",
       "      <td>10</td>\n",
       "      <td>23-Jan-14</td>\n",
       "    </tr>\n",
       "    <tr>\n",
       "      <th>1</th>\n",
       "      <td>MD-49998</td>\n",
       "      <td>472</td>\n",
       "      <td>I just had my first injection both knees a few...</td>\n",
       "      <td>10</td>\n",
       "      <td>17-Jun-16</td>\n",
       "    </tr>\n",
       "    <tr>\n",
       "      <th>2</th>\n",
       "      <td>MD-49999</td>\n",
       "      <td>308</td>\n",
       "      <td>Doesn&amp;#039;t work to lower blood pressure. I s...</td>\n",
       "      <td>2</td>\n",
       "      <td>25-Jul-15</td>\n",
       "    </tr>\n",
       "    <tr>\n",
       "      <th>3</th>\n",
       "      <td>MD-50000</td>\n",
       "      <td>352</td>\n",
       "      <td>TRAZODONE, gives nasty neck &amp;amp; headaches to...</td>\n",
       "      <td>1</td>\n",
       "      <td>16-Jun-16</td>\n",
       "    </tr>\n",
       "    <tr>\n",
       "      <th>4</th>\n",
       "      <td>MD-50001</td>\n",
       "      <td>121</td>\n",
       "      <td>I was on this pill for 4 years. The side effec...</td>\n",
       "      <td>3</td>\n",
       "      <td>01-Aug-15</td>\n",
       "    </tr>\n",
       "  </tbody>\n",
       "</table>\n",
       "</div>"
      ],
      "text/plain": [
       "  medicine_no  disease_type  \\\n",
       "0    MD-49997           555   \n",
       "1    MD-49998           472   \n",
       "2    MD-49999           308   \n",
       "3    MD-50000           352   \n",
       "4    MD-50001           121   \n",
       "\n",
       "                                     medicine_review  market_value launch_date  \n",
       "0  I came back from Cuba with a sinus infection a...            10   23-Jan-14  \n",
       "1  I just had my first injection both knees a few...            10   17-Jun-16  \n",
       "2  Doesn&#039;t work to lower blood pressure. I s...             2   25-Jul-15  \n",
       "3  TRAZODONE, gives nasty neck &amp; headaches to...             1   16-Jun-16  \n",
       "4  I was on this pill for 4 years. The side effec...             3   01-Aug-15  "
      ]
     },
     "execution_count": 23,
     "metadata": {},
     "output_type": "execute_result"
    }
   ],
   "source": [
    "test.head()"
   ]
  },
  {
   "cell_type": "code",
   "execution_count": 24,
   "id": "66241cb6-3064-4684-ac2f-9f23b3e31854",
   "metadata": {},
   "outputs": [
    {
     "ename": "AttributeError",
     "evalue": "'set' object has no attribute 'words'",
     "output_type": "error",
     "traceback": [
      "\u001b[1;31m---------------------------------------------------------------------------\u001b[0m",
      "\u001b[1;31mAttributeError\u001b[0m                            Traceback (most recent call last)",
      "Cell \u001b[1;32mIn[24], line 2\u001b[0m\n\u001b[0;32m      1\u001b[0m \u001b[38;5;66;03m# Setup stopwords and lemmatizer for text processing \u001b[39;00m\n\u001b[1;32m----> 2\u001b[0m stopwords \u001b[38;5;241m=\u001b[39m \u001b[38;5;28mset\u001b[39m(stopwords\u001b[38;5;241m.\u001b[39mwords(\u001b[38;5;124m'\u001b[39m\u001b[38;5;124menglish\u001b[39m\u001b[38;5;124m'\u001b[39m))\n\u001b[0;32m      3\u001b[0m lemmatizer \u001b[38;5;241m=\u001b[39m WordNetLemmatizer()\n",
      "\u001b[1;31mAttributeError\u001b[0m: 'set' object has no attribute 'words'"
     ]
    }
   ],
   "source": [
    "# Setup stopwords and lemmatizer for text processing \n",
    "stopwords = set(stopwords.words('english'))\n",
    "lemmatizer = WordNetLemmatizer()"
   ]
  },
  {
   "cell_type": "code",
   "execution_count": 25,
   "id": "665643e2-0817-4999-9640-58da6ee3d167",
   "metadata": {},
   "outputs": [],
   "source": [
    "# Function to preprocess text: lowercasing, removing punctuation, stopwords, and lemmatizing\n",
    "def preprocess_text(text):\n",
    "    text = re.sub(r'[^\\w\\s]', '', str(text).lower().strip())  # Remove punctuation and convert to lowercase\n",
    "    text = [lemmatizer.lemmatize(word) for word in text.split() if word not in stopwords]  # Lemmatize and remove stopwords\n",
    "    return ' '.join(text)  # Join the words back into a single string\n",
    "\n",
    "# Apply text preprocessing to the medicine_review column in both train and test datasets\n",
    "train['processed_review'] = train['medicine_review'].apply(preprocess_text)\n",
    "test['processed_review'] = test['medicine_review'].apply(preprocess_text)"
   ]
  },
  {
   "cell_type": "code",
   "execution_count": 27,
   "id": "437d5d7a-215a-419c-a83c-4056d9ed074a",
   "metadata": {},
   "outputs": [],
   "source": [
    " # Convert the processed text reviews into numerical features using TF-IDF vectorization\n",
    "tfidf_vectorizer = TfidfVectorizer(max_features=1000)\n",
    "X_train = tfidf_vectorizer.fit_transform(train['processed_review']).toarray()  # Fit and transform on training data\n",
    "X_test = tfidf_vectorizer.transform(test['processed_review']).toarray()  # Transform test data based on training data\n",
    "y_train = train['score']  # Target variable\n"
   ]
  },
  {
   "cell_type": "code",
   "execution_count": 28,
   "id": "69b637ae-639b-40e2-a4f2-60fa20819f49",
   "metadata": {},
   "outputs": [
    {
     "data": {
      "text/html": [
       "<style>#sk-container-id-1 {color: black;background-color: white;}#sk-container-id-1 pre{padding: 0;}#sk-container-id-1 div.sk-toggleable {background-color: white;}#sk-container-id-1 label.sk-toggleable__label {cursor: pointer;display: block;width: 100%;margin-bottom: 0;padding: 0.3em;box-sizing: border-box;text-align: center;}#sk-container-id-1 label.sk-toggleable__label-arrow:before {content: \"▸\";float: left;margin-right: 0.25em;color: #696969;}#sk-container-id-1 label.sk-toggleable__label-arrow:hover:before {color: black;}#sk-container-id-1 div.sk-estimator:hover label.sk-toggleable__label-arrow:before {color: black;}#sk-container-id-1 div.sk-toggleable__content {max-height: 0;max-width: 0;overflow: hidden;text-align: left;background-color: #f0f8ff;}#sk-container-id-1 div.sk-toggleable__content pre {margin: 0.2em;color: black;border-radius: 0.25em;background-color: #f0f8ff;}#sk-container-id-1 input.sk-toggleable__control:checked~div.sk-toggleable__content {max-height: 200px;max-width: 100%;overflow: auto;}#sk-container-id-1 input.sk-toggleable__control:checked~label.sk-toggleable__label-arrow:before {content: \"▾\";}#sk-container-id-1 div.sk-estimator input.sk-toggleable__control:checked~label.sk-toggleable__label {background-color: #d4ebff;}#sk-container-id-1 div.sk-label input.sk-toggleable__control:checked~label.sk-toggleable__label {background-color: #d4ebff;}#sk-container-id-1 input.sk-hidden--visually {border: 0;clip: rect(1px 1px 1px 1px);clip: rect(1px, 1px, 1px, 1px);height: 1px;margin: -1px;overflow: hidden;padding: 0;position: absolute;width: 1px;}#sk-container-id-1 div.sk-estimator {font-family: monospace;background-color: #f0f8ff;border: 1px dotted black;border-radius: 0.25em;box-sizing: border-box;margin-bottom: 0.5em;}#sk-container-id-1 div.sk-estimator:hover {background-color: #d4ebff;}#sk-container-id-1 div.sk-parallel-item::after {content: \"\";width: 100%;border-bottom: 1px solid gray;flex-grow: 1;}#sk-container-id-1 div.sk-label:hover label.sk-toggleable__label {background-color: #d4ebff;}#sk-container-id-1 div.sk-serial::before {content: \"\";position: absolute;border-left: 1px solid gray;box-sizing: border-box;top: 0;bottom: 0;left: 50%;z-index: 0;}#sk-container-id-1 div.sk-serial {display: flex;flex-direction: column;align-items: center;background-color: white;padding-right: 0.2em;padding-left: 0.2em;position: relative;}#sk-container-id-1 div.sk-item {position: relative;z-index: 1;}#sk-container-id-1 div.sk-parallel {display: flex;align-items: stretch;justify-content: center;background-color: white;position: relative;}#sk-container-id-1 div.sk-item::before, #sk-container-id-1 div.sk-parallel-item::before {content: \"\";position: absolute;border-left: 1px solid gray;box-sizing: border-box;top: 0;bottom: 0;left: 50%;z-index: -1;}#sk-container-id-1 div.sk-parallel-item {display: flex;flex-direction: column;z-index: 1;position: relative;background-color: white;}#sk-container-id-1 div.sk-parallel-item:first-child::after {align-self: flex-end;width: 50%;}#sk-container-id-1 div.sk-parallel-item:last-child::after {align-self: flex-start;width: 50%;}#sk-container-id-1 div.sk-parallel-item:only-child::after {width: 0;}#sk-container-id-1 div.sk-dashed-wrapped {border: 1px dashed gray;margin: 0 0.4em 0.5em 0.4em;box-sizing: border-box;padding-bottom: 0.4em;background-color: white;}#sk-container-id-1 div.sk-label label {font-family: monospace;font-weight: bold;display: inline-block;line-height: 1.2em;}#sk-container-id-1 div.sk-label-container {text-align: center;}#sk-container-id-1 div.sk-container {/* jupyter's `normalize.less` sets `[hidden] { display: none; }` but bootstrap.min.css set `[hidden] { display: none !important; }` so we also need the `!important` here to be able to override the default hidden behavior on the sphinx rendered scikit-learn.org. See: https://github.com/scikit-learn/scikit-learn/issues/21755 */display: inline-block !important;position: relative;}#sk-container-id-1 div.sk-text-repr-fallback {display: none;}</style><div id=\"sk-container-id-1\" class=\"sk-top-container\"><div class=\"sk-text-repr-fallback\"><pre>LinearRegression()</pre><b>In a Jupyter environment, please rerun this cell to show the HTML representation or trust the notebook. <br />On GitHub, the HTML representation is unable to render, please try loading this page with nbviewer.org.</b></div><div class=\"sk-container\" hidden><div class=\"sk-item\"><div class=\"sk-estimator sk-toggleable\"><input class=\"sk-toggleable__control sk-hidden--visually\" id=\"sk-estimator-id-1\" type=\"checkbox\" checked><label for=\"sk-estimator-id-1\" class=\"sk-toggleable__label sk-toggleable__label-arrow\">LinearRegression</label><div class=\"sk-toggleable__content\"><pre>LinearRegression()</pre></div></div></div></div></div>"
      ],
      "text/plain": [
       "LinearRegression()"
      ]
     },
     "execution_count": 28,
     "metadata": {},
     "output_type": "execute_result"
    }
   ],
   "source": [
    " # Train a Linear Regression model on the training data\n",
    "model = LinearRegression()\n",
    "model.fit(X_train, y_train)"
   ]
  },
  {
   "cell_type": "code",
   "execution_count": 29,
   "id": "8449c085-dba2-4d25-95ec-74e146cf022b",
   "metadata": {},
   "outputs": [
    {
     "name": "stdout",
     "output_type": "stream",
     "text": [
      "RMSE on training set: 28.678384811643166\n"
     ]
    }
   ],
   "source": [
    "# Evaluate the model using RMSE on the training set (for demonstration purposes)\n",
    "y_pred_train = model.predict(X_train)\n",
    "rmse_train = mean_squared_error(y_train, y_pred_train, squared=False)\n",
    "print(f\"RMSE on training set: {rmse_train}\")"
   ]
  },
  {
   "cell_type": "code",
   "execution_count": 30,
   "id": "a33e917c-75f0-49ef-8304-5dc2e34e57f7",
   "metadata": {},
   "outputs": [],
   "source": [
    "# Predict usefulness scores for the test data\n",
    "predictions = model.predict(X_test)"
   ]
  },
  {
   "cell_type": "code",
   "execution_count": 31,
   "id": "355bae7d-817b-49a5-bb5f-2fefd9c1fde3",
   "metadata": {},
   "outputs": [],
   "source": [
    "# Prepare the submission dataframe with medicine_no and predicted scores\n",
    "submission = pd.DataFrame({\n",
    "    'medicine_no': test['medicine_no'],\n",
    "    'predicted_score': predictions\n",
    "    })\n"
   ]
  },
  {
   "cell_type": "code",
   "execution_count": 33,
   "id": "b62c274f-e16e-4e0e-a89d-e725a8efada1",
   "metadata": {},
   "outputs": [],
   "source": [
    "# Save the submission dataframe to a CSV file\n",
    "submission.to_csv('submission.csv', index=False)"
   ]
  },
  {
   "cell_type": "code",
   "execution_count": null,
   "id": "fcac0281-fa3a-490c-aea4-10576714b8be",
   "metadata": {},
   "outputs": [],
   "source": []
  }
 ],
 "metadata": {
  "kernelspec": {
   "display_name": "Python 3 (ipykernel)",
   "language": "python",
   "name": "python3"
  },
  "language_info": {
   "codemirror_mode": {
    "name": "ipython",
    "version": 3
   },
   "file_extension": ".py",
   "mimetype": "text/x-python",
   "name": "python",
   "nbconvert_exporter": "python",
   "pygments_lexer": "ipython3",
   "version": "3.11.7"
  }
 },
 "nbformat": 4,
 "nbformat_minor": 5
}
